{
 "cells": [
  {
   "cell_type": "markdown",
   "metadata": {},
   "source": [
    "Script to create a list of Apex triggers across all objects, along with status and trigger contexts"
   ]
  },
  {
   "cell_type": "code",
   "execution_count": 9,
   "metadata": {},
   "outputs": [
    {
     "name": "stdout",
     "output_type": "stream",
     "text": [
      "                                Object                      Name    Status  \\\n",
      "0           MailChimpSyncProcessing__e   MailChimpPostProcessing    Active   \n",
      "1                 Course_Enrollment__c   CourseEnrollmentTrigger    Active   \n",
      "2   CohortOfferingStudentEnrollment__c               UpdateCoach    Active   \n",
      "3                 CourseCohortEvent__c      CohortSessionTrigger  Inactive   \n",
      "4                 Course_Enrollment__c  UpdateDateChangeProgress  Inactive   \n",
      "5                              Contact            ContactTrigger    Active   \n",
      "6                       Interaction__c           INT_Interaction    Active   \n",
      "7                                 Task               TaskTrigger    Active   \n",
      "8   CohortOfferingStudentEnrollment__c          UpdateCohortDate    Active   \n",
      "9                              Contact            updateCheckBox    Active   \n",
      "10                Course_Enrollment__c             UpdatePACABox  Inactive   \n",
      "11                             Contact      ContactTriggerMaster  Inactive   \n",
      "12               Product_Enrollment__c  ProductEnrollmentTrigger    Active   \n",
      "13                         Opportunity      insertNewOpportunity    Active   \n",
      "14                 System_Error_Log__c     SystemErrorLogTrigger    Active   \n",
      "15              Interaction_Mapping__c    INT_InteractionMapping    Active   \n",
      "16               Session_Assignment__c  SessionAssignmentTrigger    Active   \n",
      "\n",
      "                                      TriggerContexts  \n",
      "0                                        after insert  \n",
      "1                          after insert, after update  \n",
      "2                                        after delete  \n",
      "3                        before insert, before update  \n",
      "4                        before insert, before update  \n",
      "5           before update, after insert, after update  \n",
      "6                          after insert, after update  \n",
      "7                                       before insert  \n",
      "8                          after insert, after update  \n",
      "9                        before insert, before update  \n",
      "10                                       after update  \n",
      "11  before insert, before update, before delete, a...  \n",
      "12          before update, after insert, after update  \n",
      "13                         after insert, after update  \n",
      "14                                       after insert  \n",
      "15                         after insert, after update  \n",
      "16          before insert, after insert, after update  \n"
     ]
    }
   ],
   "source": [
    "import os\n",
    "import pandas as pd\n",
    "import xml.etree.ElementTree as ET\n",
    "import re\n",
    "\n",
    "# Set the directory path; path below assumes that this project is in the same directory as the Salesforce project \n",
    "directory_path = '../projectName/force-app/main/default/triggers/'\n",
    "\n",
    "# Create an empty DataFrame\n",
    "df = pd.DataFrame(columns=['Object', 'Name', 'Status', 'TriggerContexts'])\n",
    "\n",
    "# Loop through each trigger file in the directory\n",
    "for filename in os.listdir(directory_path):\n",
    "    if filename.endswith(\".trigger\"):\n",
    "        # Create new row for dataframe\n",
    "        trigger_data = {}\n",
    "        \n",
    "        # Open the trigger file and read its contents\n",
    "        with open (directory_path + filename, 'r') as file:\n",
    "            lines = file.readlines()\n",
    "            # Iterate over each line\n",
    "            for line in lines:\n",
    "                # Check if the line starts with \"trigger\" and parse the relevant data\n",
    "                if line.strip().lower().startswith(\"trigger\"):\n",
    "                    words = re.split(r'\\s|\\(', line)\n",
    "                    trigger_data['Object'] = words[3] if len(words) > 3 else ''\n",
    "                    trigger_data['Name'] = words[1] if len(words) > 1 else ''\n",
    "                    context_start = line.find('(') + 1\n",
    "                    context_end = line.find(')')\n",
    "                    trigger_data['TriggerContexts'] = line[context_start:context_end] if context_start < context_end else ''\n",
    "\n",
    "        # Get the trigger status\n",
    "        trigger_meta_filename = filename + '-meta.xml'\n",
    "        file_path = os.path.join(directory_path, trigger_meta_filename)\n",
    "\n",
    "        # Load the XML file\n",
    "        tree = ET.parse(file_path)\n",
    "        root = tree.getroot()\n",
    "        trigger_data['Status'] = root.find('{http://soap.sforce.com/2006/04/metadata}status').text\n",
    "\n",
    "        # Append the data to the list\n",
    "        df.loc[len(df)] = trigger_data\n",
    "\n",
    "# Display the DataFrame\n",
    "print(df)\n",
    "\n",
    "df.to_csv('triggers.csv', index=False)"
   ]
  }
 ],
 "metadata": {
  "kernelspec": {
   "display_name": "Python 3",
   "language": "python",
   "name": "python3"
  },
  "language_info": {
   "codemirror_mode": {
    "name": "ipython",
    "version": 3
   },
   "file_extension": ".py",
   "mimetype": "text/x-python",
   "name": "python",
   "nbconvert_exporter": "python",
   "pygments_lexer": "ipython3",
   "version": "3.11.5"
  }
 },
 "nbformat": 4,
 "nbformat_minor": 2
}
