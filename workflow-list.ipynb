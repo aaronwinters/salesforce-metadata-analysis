{
 "cells": [
  {
   "cell_type": "markdown",
   "metadata": {},
   "source": [
    "Script to create a list of workflow rules across all objects."
   ]
  },
  {
   "cell_type": "code",
   "execution_count": 14,
   "metadata": {},
   "outputs": [
    {
     "name": "stdout",
     "output_type": "stream",
     "text": [
      "                  Object                                               Name  \\\n",
      "0                   Case                                     Assign to Team   \n",
      "1                   Case                         Notification to Case Owner   \n",
      "2       Coaching_Call__c                                 Coach Note Created   \n",
      "3       Coaching_Call__c       Notify Coach for Incomplete Call Information   \n",
      "4        CourseCohort__c                       inActive prevent entrollment   \n",
      "5   Course_Enrollment__c           Update Old Course value and date changed   \n",
      "6                Contact                          Contact Moved to Hot List   \n",
      "7                Contact      Delete Cohort Enrollment if Student Withdraws   \n",
      "8                Contact  Email alert for client specific student enroll...   \n",
      "9                Contact             Enrolled to Dropped%2FWithdrawn status   \n",
      "10               Contact                                Graduation Reversal   \n",
      "11               Contact                     Prospective Student 1 and 2 EC   \n",
      "12               Contact                     Prospective Student 3 and 4 EC   \n",
      "13               Contact                     Prospective Student 5 and 6 EC   \n",
      "14               Contact                     Prospective Student 7 and 8 EC   \n",
      "15               Contact                    Prospective Student 9 and 10 EC   \n",
      "16               Contact                                send email to coach   \n",
      "17          Call_List__c                               Contact To Call List   \n",
      "18          Call_List__c                                     Follow Up Task   \n",
      "19          Call_List__c                                Next Follow Up Task   \n",
      "\n",
      "   Active                 TriggerType  \n",
      "0   false                onAllChanges  \n",
      "1    true  onCreateOrTriggeringUpdate  \n",
      "2   false                onCreateOnly  \n",
      "3    true  onCreateOrTriggeringUpdate  \n",
      "4   false                onAllChanges  \n",
      "5    true                onAllChanges  \n",
      "6    true                onAllChanges  \n",
      "7   false  onCreateOrTriggeringUpdate  \n",
      "8    true  onCreateOrTriggeringUpdate  \n",
      "9    true                onAllChanges  \n",
      "10   true                onAllChanges  \n",
      "11  false                onCreateOnly  \n",
      "12  false                onCreateOnly  \n",
      "13  false                onCreateOnly  \n",
      "14  false                onCreateOnly  \n",
      "15  false                onCreateOnly  \n",
      "16  false                onAllChanges  \n",
      "17  false  onCreateOrTriggeringUpdate  \n",
      "18   true  onCreateOrTriggeringUpdate  \n",
      "19  false  onCreateOrTriggeringUpdate  \n"
     ]
    }
   ],
   "source": [
    "import os\n",
    "import pandas as pd\n",
    "import xml.etree.ElementTree as ET\n",
    "\n",
    "# Set the directory path\n",
    "directory_path = '../project-name/force-app/main/default/workflows/'\n",
    "\n",
    "# Create an empty DataFrame\n",
    "df = pd.DataFrame(columns=['Object', 'Name', 'Active', 'TriggerType'])\n",
    "\n",
    "# Loop through each XML file in the directory\n",
    "for filename in os.listdir(directory_path):\n",
    "    if filename.endswith(\".xml\"):\n",
    "        file_path = os.path.join(directory_path, filename)\n",
    "\n",
    "        # Load the XML file\n",
    "        tree = ET.parse(file_path)\n",
    "        root = tree.getroot()\n",
    "\n",
    "        # Iterate over each \"rules\" node\n",
    "        for rules_node in root.findall('.//{http://soap.sforce.com/2006/04/metadata}rules'):\n",
    "            rule_data = {}\n",
    "            rule_data['Object'] = filename.split('.')[0]\n",
    "            rule_data['Name'] = rules_node.find('{http://soap.sforce.com/2006/04/metadata}fullName').text\n",
    "            rule_data['Active'] = rules_node.find('{http://soap.sforce.com/2006/04/metadata}active').text\n",
    "            rule_data['TriggerType'] = rules_node.find('{http://soap.sforce.com/2006/04/metadata}triggerType').text\n",
    "\n",
    "            # Append the data to the list\n",
    "            df.loc[len(df)] = rule_data\n",
    "\n",
    "# Display the DataFrame\n",
    "print(df)\n",
    "\n",
    "df.to_csv('workflow_rules.csv', index=False)\n"
   ]
  }
 ],
 "metadata": {
  "kernelspec": {
   "display_name": "Python 3",
   "language": "python",
   "name": "python3"
  },
  "language_info": {
   "codemirror_mode": {
    "name": "ipython",
    "version": 3
   },
   "file_extension": ".py",
   "mimetype": "text/x-python",
   "name": "python",
   "nbconvert_exporter": "python",
   "pygments_lexer": "ipython3",
   "version": "3.11.5"
  }
 },
 "nbformat": 4,
 "nbformat_minor": 2
}
